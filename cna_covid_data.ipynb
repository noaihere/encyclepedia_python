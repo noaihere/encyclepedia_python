{
  "nbformat": 4,
  "nbformat_minor": 0,
  "metadata": {
    "colab": {
      "name": "cna_covid_data.ipynb",
      "provenance": [],
      "collapsed_sections": [],
      "authorship_tag": "ABX9TyMrtC0DSU4APH+1Df/Urj9U",
      "include_colab_link": true
    },
    "kernelspec": {
      "display_name": "Python 3",
      "name": "python3"
    }
  },
  "cells": [
    {
      "cell_type": "markdown",
      "metadata": {
        "id": "view-in-github",
        "colab_type": "text"
      },
      "source": [
        "<a href=\"https://colab.research.google.com/github/noaihere/encyclepedia_python/blob/main/cna_covid_data.ipynb\" target=\"_parent\"><img src=\"https://colab.research.google.com/assets/colab-badge.svg\" alt=\"Open In Colab\"/></a>"
      ]
    },
    {
      "cell_type": "markdown",
      "metadata": {
        "id": "DK5n0Hn9amV9"
      },
      "source": [
        "Download covid data and save to local csv"
      ]
    },
    {
      "cell_type": "code",
      "metadata": {
        "id": "BNeq-Bv97ghK"
      },
      "source": [
        "import pandas as pd\n",
        "from google.colab import files\n",
        "import json\n",
        "import requests"
      ],
      "execution_count": null,
      "outputs": []
    },
    {
      "cell_type": "code",
      "metadata": {
        "colab": {
          "base_uri": "https://localhost:8080/"
        },
        "id": "tWO5Eg7nrG6B",
        "outputId": "0cdd7239-6806-4165-e1eb-6fddfd75040d"
      },
      "source": [
        "# get data needed for charts in \n",
        "# https://www.channelnewsasia.com/news/singapore/covid-19-singapore-new-community-case-restaurant-manager-14646412\n",
        "\n",
        "session = requests.Session()\n",
        "response = session.get(\"https://infographics.channelnewsasia.com/covid-19/sgsitrep.json\").json()\n",
        "print(response.keys())\n",
        "data = response['feed'][\"entry\"]"
      ],
      "execution_count": null,
      "outputs": [
        {
          "output_type": "stream",
          "text": [
            "dict_keys(['version', 'encoding', 'feed'])\n"
          ],
          "name": "stdout"
        }
      ]
    },
    {
      "cell_type": "code",
      "metadata": {
        "colab": {
          "base_uri": "https://localhost:8080/",
          "height": 284
        },
        "id": "huqdXgfQ5G9q",
        "outputId": "4f555deb-0889-47b9-9d8e-120401b5079c"
      },
      "source": [
        "df = pd.DataFrame(data)\n",
        "df.describe()\n",
        "df.head(2)"
      ],
      "execution_count": null,
      "outputs": [
        {
          "output_type": "execute_result",
          "data": {
            "text/html": [
              "<div>\n",
              "<style scoped>\n",
              "    .dataframe tbody tr th:only-of-type {\n",
              "        vertical-align: middle;\n",
              "    }\n",
              "\n",
              "    .dataframe tbody tr th {\n",
              "        vertical-align: top;\n",
              "    }\n",
              "\n",
              "    .dataframe thead th {\n",
              "        text-align: right;\n",
              "    }\n",
              "</style>\n",
              "<table border=\"1\" class=\"dataframe\">\n",
              "  <thead>\n",
              "    <tr style=\"text-align: right;\">\n",
              "      <th></th>\n",
              "      <th>id</th>\n",
              "      <th>updated</th>\n",
              "      <th>category</th>\n",
              "      <th>title</th>\n",
              "      <th>content</th>\n",
              "      <th>link</th>\n",
              "      <th>gsx$date</th>\n",
              "      <th>gsx$totalcases</th>\n",
              "      <th>gsx$communitycases</th>\n",
              "      <th>gsx$dormresidents</th>\n",
              "      <th>gsx$importedcases</th>\n",
              "      <th>gsx$workpermitholdersnotindorms</th>\n",
              "      <th>gsx$new</th>\n",
              "      <th>gsx$correct</th>\n",
              "      <th>gsx$updatedasof</th>\n",
              "      <th>gsx$embeddedstartdate</th>\n",
              "      <th>gsx$totallocalnon-dormcases</th>\n",
              "      <th>gsx$highestnumber</th>\n",
              "    </tr>\n",
              "  </thead>\n",
              "  <tbody>\n",
              "    <tr>\n",
              "      <th>0</th>\n",
              "      <td>{'$t': 'https://spreadsheets.google.com/feeds/...</td>\n",
              "      <td>{'$t': '2021-04-26T02:42:01.875Z'}</td>\n",
              "      <td>[{'scheme': 'http://schemas.google.com/spreads...</td>\n",
              "      <td>{'type': 'text', '$t': 'Row: 2'}</td>\n",
              "      <td>{'type': 'text', '$t': 'updatedasof: Apr 25, 3...</td>\n",
              "      <td>[{'rel': 'self', 'type': 'application/atom+xml...</td>\n",
              "      <td>{'$t': ''}</td>\n",
              "      <td>{'$t': ''}</td>\n",
              "      <td>{'$t': ''}</td>\n",
              "      <td>{'$t': ''}</td>\n",
              "      <td>{'$t': ''}</td>\n",
              "      <td>{'$t': ''}</td>\n",
              "      <td>{'$t': ''}</td>\n",
              "      <td>{'$t': ''}</td>\n",
              "      <td>{'$t': 'Apr 25, 3.50pm'}</td>\n",
              "      <td>{'$t': 'Mar 15'}</td>\n",
              "      <td>{'$t': ''}</td>\n",
              "      <td>{'$t': '66'}</td>\n",
              "    </tr>\n",
              "    <tr>\n",
              "      <th>1</th>\n",
              "      <td>{'$t': 'https://spreadsheets.google.com/feeds/...</td>\n",
              "      <td>{'$t': '2021-04-26T02:42:01.875Z'}</td>\n",
              "      <td>[{'scheme': 'http://schemas.google.com/spreads...</td>\n",
              "      <td>{'type': 'text', '$t': 'Apr 1'}</td>\n",
              "      <td>{'type': 'text', '$t': 'totalcases: 74, commun...</td>\n",
              "      <td>[{'rel': 'self', 'type': 'application/atom+xml...</td>\n",
              "      <td>{'$t': 'Apr 1'}</td>\n",
              "      <td>{'$t': '74'}</td>\n",
              "      <td>{'$t': '39'}</td>\n",
              "      <td>{'$t': '13'}</td>\n",
              "      <td>{'$t': '19'}</td>\n",
              "      <td>{'$t': '3'}</td>\n",
              "      <td>{'$t': ''}</td>\n",
              "      <td>{'$t': 'YES'}</td>\n",
              "      <td>{'$t': ''}</td>\n",
              "      <td>{'$t': ''}</td>\n",
              "      <td>{'$t': '42'}</td>\n",
              "      <td>{'$t': ''}</td>\n",
              "    </tr>\n",
              "  </tbody>\n",
              "</table>\n",
              "</div>"
            ],
            "text/plain": [
              "                                                  id  ... gsx$highestnumber\n",
              "0  {'$t': 'https://spreadsheets.google.com/feeds/...  ...      {'$t': '66'}\n",
              "1  {'$t': 'https://spreadsheets.google.com/feeds/...  ...        {'$t': ''}\n",
              "\n",
              "[2 rows x 18 columns]"
            ]
          },
          "metadata": {
            "tags": []
          },
          "execution_count": 3
        }
      ]
    },
    {
      "cell_type": "code",
      "metadata": {
        "colab": {
          "base_uri": "https://localhost:8080/",
          "height": 284
        },
        "id": "ZOpem5Oprq65",
        "outputId": "20566b26-9cb0-4956-fceb-3c0703299794"
      },
      "source": [
        "# get number values only using str extract\n",
        "\n",
        "list_col = ['gsx$communitycases', 'gsx$dormresidents', 'gsx$importedcases']\n",
        "for col in list_col:\n",
        "    df[col] = df[col].astype(str)\n",
        "    df[col] = df[col].str.extract('(\\d+)')\n",
        "    \n",
        "df.head(2)"
      ],
      "execution_count": null,
      "outputs": [
        {
          "output_type": "execute_result",
          "data": {
            "text/html": [
              "<div>\n",
              "<style scoped>\n",
              "    .dataframe tbody tr th:only-of-type {\n",
              "        vertical-align: middle;\n",
              "    }\n",
              "\n",
              "    .dataframe tbody tr th {\n",
              "        vertical-align: top;\n",
              "    }\n",
              "\n",
              "    .dataframe thead th {\n",
              "        text-align: right;\n",
              "    }\n",
              "</style>\n",
              "<table border=\"1\" class=\"dataframe\">\n",
              "  <thead>\n",
              "    <tr style=\"text-align: right;\">\n",
              "      <th></th>\n",
              "      <th>id</th>\n",
              "      <th>updated</th>\n",
              "      <th>category</th>\n",
              "      <th>title</th>\n",
              "      <th>content</th>\n",
              "      <th>link</th>\n",
              "      <th>gsx$date</th>\n",
              "      <th>gsx$totalcases</th>\n",
              "      <th>gsx$communitycases</th>\n",
              "      <th>gsx$dormresidents</th>\n",
              "      <th>gsx$importedcases</th>\n",
              "      <th>gsx$workpermitholdersnotindorms</th>\n",
              "      <th>gsx$new</th>\n",
              "      <th>gsx$correct</th>\n",
              "      <th>gsx$updatedasof</th>\n",
              "      <th>gsx$embeddedstartdate</th>\n",
              "      <th>gsx$totallocalnon-dormcases</th>\n",
              "      <th>gsx$highestnumber</th>\n",
              "    </tr>\n",
              "  </thead>\n",
              "  <tbody>\n",
              "    <tr>\n",
              "      <th>0</th>\n",
              "      <td>{'$t': 'https://spreadsheets.google.com/feeds/...</td>\n",
              "      <td>{'$t': '2021-04-26T02:42:01.875Z'}</td>\n",
              "      <td>[{'scheme': 'http://schemas.google.com/spreads...</td>\n",
              "      <td>{'type': 'text', '$t': 'Row: 2'}</td>\n",
              "      <td>{'type': 'text', '$t': 'updatedasof: Apr 25, 3...</td>\n",
              "      <td>[{'rel': 'self', 'type': 'application/atom+xml...</td>\n",
              "      <td>{'$t': ''}</td>\n",
              "      <td>{'$t': ''}</td>\n",
              "      <td>NaN</td>\n",
              "      <td>NaN</td>\n",
              "      <td>NaN</td>\n",
              "      <td>{'$t': ''}</td>\n",
              "      <td>{'$t': ''}</td>\n",
              "      <td>{'$t': ''}</td>\n",
              "      <td>{'$t': 'Apr 25, 3.50pm'}</td>\n",
              "      <td>{'$t': 'Mar 15'}</td>\n",
              "      <td>{'$t': ''}</td>\n",
              "      <td>{'$t': '66'}</td>\n",
              "    </tr>\n",
              "    <tr>\n",
              "      <th>1</th>\n",
              "      <td>{'$t': 'https://spreadsheets.google.com/feeds/...</td>\n",
              "      <td>{'$t': '2021-04-26T02:42:01.875Z'}</td>\n",
              "      <td>[{'scheme': 'http://schemas.google.com/spreads...</td>\n",
              "      <td>{'type': 'text', '$t': 'Apr 1'}</td>\n",
              "      <td>{'type': 'text', '$t': 'totalcases: 74, commun...</td>\n",
              "      <td>[{'rel': 'self', 'type': 'application/atom+xml...</td>\n",
              "      <td>{'$t': 'Apr 1'}</td>\n",
              "      <td>{'$t': '74'}</td>\n",
              "      <td>39</td>\n",
              "      <td>13</td>\n",
              "      <td>19</td>\n",
              "      <td>{'$t': '3'}</td>\n",
              "      <td>{'$t': ''}</td>\n",
              "      <td>{'$t': 'YES'}</td>\n",
              "      <td>{'$t': ''}</td>\n",
              "      <td>{'$t': ''}</td>\n",
              "      <td>{'$t': '42'}</td>\n",
              "      <td>{'$t': ''}</td>\n",
              "    </tr>\n",
              "  </tbody>\n",
              "</table>\n",
              "</div>"
            ],
            "text/plain": [
              "                                                  id  ... gsx$highestnumber\n",
              "0  {'$t': 'https://spreadsheets.google.com/feeds/...  ...      {'$t': '66'}\n",
              "1  {'$t': 'https://spreadsheets.google.com/feeds/...  ...        {'$t': ''}\n",
              "\n",
              "[2 rows x 18 columns]"
            ]
          },
          "metadata": {
            "tags": []
          },
          "execution_count": 4
        }
      ]
    },
    {
      "cell_type": "code",
      "metadata": {
        "colab": {
          "base_uri": "https://localhost:8080/"
        },
        "id": "-WXImvrMvE4u",
        "outputId": "18fe31af-fd6b-4405-d95e-8ab9774fc63c"
      },
      "source": [
        "# extract date and assign year 2021\n",
        "\n",
        "df['gsx$date'] = df['gsx$date'].astype(str)\n",
        "df['gsx$date'] = df['gsx$date'].str.extract(\"(\\w+ \\d+)\")\n",
        "df['gsx$date'] = '2021 ' + df['gsx$date']\n",
        "df['gsx$date'].head(2)"
      ],
      "execution_count": null,
      "outputs": [
        {
          "output_type": "execute_result",
          "data": {
            "text/plain": [
              "0           NaN\n",
              "1    2021 Apr 1\n",
              "Name: gsx$date, dtype: object"
            ]
          },
          "metadata": {
            "tags": []
          },
          "execution_count": 5
        }
      ]
    },
    {
      "cell_type": "markdown",
      "metadata": {
        "id": "asQny0ik38sm"
      },
      "source": [
        "https://docs.python.org/3/library/datetime.html#strftime-and-strptime-behavior"
      ]
    },
    {
      "cell_type": "code",
      "metadata": {
        "colab": {
          "base_uri": "https://localhost:8080/"
        },
        "id": "M75ufnBH1Gdd",
        "outputId": "219ff291-900c-431a-d32d-b95b4fd8800f"
      },
      "source": [
        "# make to datetime col\n",
        "\n",
        "df['gsx$date'] = pd.to_datetime(df['gsx$date'], format = '%Y %b %d')\n",
        "df['gsx$date'].head(3)"
      ],
      "execution_count": null,
      "outputs": [
        {
          "output_type": "execute_result",
          "data": {
            "text/plain": [
              "0          NaT\n",
              "1   2021-04-01\n",
              "2   2021-04-02\n",
              "Name: gsx$date, dtype: datetime64[ns]"
            ]
          },
          "metadata": {
            "tags": []
          },
          "execution_count": 6
        }
      ]
    },
    {
      "cell_type": "code",
      "metadata": {
        "colab": {
          "base_uri": "https://localhost:8080/",
          "height": 204
        },
        "id": "fM8jFtUg09k3",
        "outputId": "ab6e3acc-cc12-4cf5-ad6c-321270d482ec"
      },
      "source": [
        "# get required cols\n",
        "\n",
        "final = df[['gsx$date','gsx$communitycases', 'gsx$dormresidents', 'gsx$importedcases']]\n",
        "\n",
        "# rename cols\n",
        "final.columns = final.columns.str.replace('gsx\\$','')\n",
        "\n",
        "# remove all na rows\n",
        "final = final.dropna(how='all')\n",
        "\n",
        "final.head()"
      ],
      "execution_count": null,
      "outputs": [
        {
          "output_type": "execute_result",
          "data": {
            "text/html": [
              "<div>\n",
              "<style scoped>\n",
              "    .dataframe tbody tr th:only-of-type {\n",
              "        vertical-align: middle;\n",
              "    }\n",
              "\n",
              "    .dataframe tbody tr th {\n",
              "        vertical-align: top;\n",
              "    }\n",
              "\n",
              "    .dataframe thead th {\n",
              "        text-align: right;\n",
              "    }\n",
              "</style>\n",
              "<table border=\"1\" class=\"dataframe\">\n",
              "  <thead>\n",
              "    <tr style=\"text-align: right;\">\n",
              "      <th></th>\n",
              "      <th>date</th>\n",
              "      <th>communitycases</th>\n",
              "      <th>dormresidents</th>\n",
              "      <th>importedcases</th>\n",
              "    </tr>\n",
              "  </thead>\n",
              "  <tbody>\n",
              "    <tr>\n",
              "      <th>1</th>\n",
              "      <td>2021-04-01</td>\n",
              "      <td>39</td>\n",
              "      <td>13</td>\n",
              "      <td>19</td>\n",
              "    </tr>\n",
              "    <tr>\n",
              "      <th>2</th>\n",
              "      <td>2021-04-02</td>\n",
              "      <td>29</td>\n",
              "      <td>8</td>\n",
              "      <td>8</td>\n",
              "    </tr>\n",
              "    <tr>\n",
              "      <th>3</th>\n",
              "      <td>2021-04-03</td>\n",
              "      <td>29</td>\n",
              "      <td>22</td>\n",
              "      <td>9</td>\n",
              "    </tr>\n",
              "    <tr>\n",
              "      <th>4</th>\n",
              "      <td>2021-04-04</td>\n",
              "      <td>32</td>\n",
              "      <td>26</td>\n",
              "      <td>7</td>\n",
              "    </tr>\n",
              "    <tr>\n",
              "      <th>5</th>\n",
              "      <td>2021-04-05</td>\n",
              "      <td>43</td>\n",
              "      <td>58</td>\n",
              "      <td>4</td>\n",
              "    </tr>\n",
              "  </tbody>\n",
              "</table>\n",
              "</div>"
            ],
            "text/plain": [
              "        date communitycases dormresidents importedcases\n",
              "1 2021-04-01             39            13            19\n",
              "2 2021-04-02             29             8             8\n",
              "3 2021-04-03             29            22             9\n",
              "4 2021-04-04             32            26             7\n",
              "5 2021-04-05             43            58             4"
            ]
          },
          "metadata": {
            "tags": []
          },
          "execution_count": 7
        }
      ]
    },
    {
      "cell_type": "code",
      "metadata": {
        "colab": {
          "base_uri": "https://localhost:8080/",
          "height": 289
        },
        "id": "cq0Vvcao6mi9",
        "outputId": "8b0e3c5f-363e-45de-e294-3caec0483c5a"
      },
      "source": [
        "final.describe()"
      ],
      "execution_count": null,
      "outputs": [
        {
          "output_type": "stream",
          "text": [
            "/usr/local/lib/python3.7/dist-packages/ipykernel_launcher.py:1: FutureWarning: Treating datetime data as categorical rather than numeric in `.describe` is deprecated and will be removed in a future version of pandas. Specify `datetime_is_numeric=True` to silence this warning and adopt the future behavior now.\n",
            "  \"\"\"Entry point for launching an IPython kernel.\n"
          ],
          "name": "stderr"
        },
        {
          "output_type": "execute_result",
          "data": {
            "text/html": [
              "<div>\n",
              "<style scoped>\n",
              "    .dataframe tbody tr th:only-of-type {\n",
              "        vertical-align: middle;\n",
              "    }\n",
              "\n",
              "    .dataframe tbody tr th {\n",
              "        vertical-align: top;\n",
              "    }\n",
              "\n",
              "    .dataframe thead th {\n",
              "        text-align: right;\n",
              "    }\n",
              "</style>\n",
              "<table border=\"1\" class=\"dataframe\">\n",
              "  <thead>\n",
              "    <tr style=\"text-align: right;\">\n",
              "      <th></th>\n",
              "      <th>date</th>\n",
              "      <th>communitycases</th>\n",
              "      <th>dormresidents</th>\n",
              "      <th>importedcases</th>\n",
              "    </tr>\n",
              "  </thead>\n",
              "  <tbody>\n",
              "    <tr>\n",
              "      <th>count</th>\n",
              "      <td>390</td>\n",
              "      <td>390</td>\n",
              "      <td>390</td>\n",
              "      <td>390</td>\n",
              "    </tr>\n",
              "    <tr>\n",
              "      <th>unique</th>\n",
              "      <td>365</td>\n",
              "      <td>38</td>\n",
              "      <td>166</td>\n",
              "      <td>43</td>\n",
              "    </tr>\n",
              "    <tr>\n",
              "      <th>top</th>\n",
              "      <td>2021-04-03 00:00:00</td>\n",
              "      <td>0</td>\n",
              "      <td>0</td>\n",
              "      <td>0</td>\n",
              "    </tr>\n",
              "    <tr>\n",
              "      <th>freq</th>\n",
              "      <td>2</td>\n",
              "      <td>151</td>\n",
              "      <td>169</td>\n",
              "      <td>77</td>\n",
              "    </tr>\n",
              "    <tr>\n",
              "      <th>first</th>\n",
              "      <td>2021-01-01 00:00:00</td>\n",
              "      <td>NaN</td>\n",
              "      <td>NaN</td>\n",
              "      <td>NaN</td>\n",
              "    </tr>\n",
              "    <tr>\n",
              "      <th>last</th>\n",
              "      <td>2021-12-31 00:00:00</td>\n",
              "      <td>NaN</td>\n",
              "      <td>NaN</td>\n",
              "      <td>NaN</td>\n",
              "    </tr>\n",
              "  </tbody>\n",
              "</table>\n",
              "</div>"
            ],
            "text/plain": [
              "                       date communitycases dormresidents importedcases\n",
              "count                   390            390           390           390\n",
              "unique                  365             38           166            43\n",
              "top     2021-04-03 00:00:00              0             0             0\n",
              "freq                      2            151           169            77\n",
              "first   2021-01-01 00:00:00            NaN           NaN           NaN\n",
              "last    2021-12-31 00:00:00            NaN           NaN           NaN"
            ]
          },
          "metadata": {
            "tags": []
          },
          "execution_count": 8
        }
      ]
    },
    {
      "cell_type": "code",
      "metadata": {
        "colab": {
          "base_uri": "https://localhost:8080/",
          "height": 80
        },
        "id": "hldUv4Dp60wu",
        "outputId": "a5cf0122-c3fc-4748-a89a-bc413adb8713"
      },
      "source": [
        "# not all dates from 2021\n",
        "\n",
        "final[final['date']==pd.to_datetime('2021-12-31')]"
      ],
      "execution_count": null,
      "outputs": [
        {
          "output_type": "execute_result",
          "data": {
            "text/html": [
              "<div>\n",
              "<style scoped>\n",
              "    .dataframe tbody tr th:only-of-type {\n",
              "        vertical-align: middle;\n",
              "    }\n",
              "\n",
              "    .dataframe tbody tr th {\n",
              "        vertical-align: top;\n",
              "    }\n",
              "\n",
              "    .dataframe thead th {\n",
              "        text-align: right;\n",
              "    }\n",
              "</style>\n",
              "<table border=\"1\" class=\"dataframe\">\n",
              "  <thead>\n",
              "    <tr style=\"text-align: right;\">\n",
              "      <th></th>\n",
              "      <th>date</th>\n",
              "      <th>communitycases</th>\n",
              "      <th>dormresidents</th>\n",
              "      <th>importedcases</th>\n",
              "    </tr>\n",
              "  </thead>\n",
              "  <tbody>\n",
              "    <tr>\n",
              "      <th>275</th>\n",
              "      <td>2021-12-31</td>\n",
              "      <td>5</td>\n",
              "      <td>0</td>\n",
              "      <td>25</td>\n",
              "    </tr>\n",
              "  </tbody>\n",
              "</table>\n",
              "</div>"
            ],
            "text/plain": [
              "          date communitycases dormresidents importedcases\n",
              "275 2021-12-31              5             0            25"
            ]
          },
          "metadata": {
            "tags": []
          },
          "execution_count": 9
        }
      ]
    },
    {
      "cell_type": "code",
      "metadata": {
        "colab": {
          "base_uri": "https://localhost:8080/"
        },
        "id": "bRTKu1ruACMc",
        "outputId": "6def8cbd-b941-4a06-ad44-179b2dc178a6"
      },
      "source": [
        "# see rows before dec 31\n",
        "# looks like below to 2020 data\n",
        "print(final.iloc[:275,0])\n",
        "\n",
        "# get dec 31 row index\n",
        "dec_index = final[final['date']==pd.to_datetime('2021-12-31')].index[0]\n",
        "dec_index"
      ],
      "execution_count": null,
      "outputs": [
        {
          "output_type": "stream",
          "text": [
            "1     2021-04-01\n",
            "2     2021-04-02\n",
            "3     2021-04-03\n",
            "4     2021-04-04\n",
            "5     2021-04-05\n",
            "         ...    \n",
            "271   2021-12-27\n",
            "272   2021-12-28\n",
            "273   2021-12-29\n",
            "274   2021-12-30\n",
            "275   2021-12-31\n",
            "Name: date, Length: 275, dtype: datetime64[ns]\n"
          ],
          "name": "stdout"
        },
        {
          "output_type": "execute_result",
          "data": {
            "text/plain": [
              "275"
            ]
          },
          "metadata": {
            "tags": []
          },
          "execution_count": 10
        }
      ]
    },
    {
      "cell_type": "code",
      "metadata": {
        "colab": {
          "base_uri": "https://localhost:8080/"
        },
        "id": "ySldgmFJ8dR2",
        "outputId": "d0e7c51a-d9fc-4958-a675-8e5e7be4a744"
      },
      "source": [
        "# minus 1 year from date if row index is before dec 31 row index\n",
        "\n",
        "final.iloc[:dec_index,0]= final.iloc[:dec_index,0]- pd.DateOffset(years=1)\n",
        "final.iloc[:dec_index,0]"
      ],
      "execution_count": null,
      "outputs": [
        {
          "output_type": "execute_result",
          "data": {
            "text/plain": [
              "1     2020-04-01\n",
              "2     2020-04-02\n",
              "3     2020-04-03\n",
              "4     2020-04-04\n",
              "5     2020-04-05\n",
              "         ...    \n",
              "271   2020-12-27\n",
              "272   2020-12-28\n",
              "273   2020-12-29\n",
              "274   2020-12-30\n",
              "275   2020-12-31\n",
              "Name: date, Length: 275, dtype: datetime64[ns]"
            ]
          },
          "metadata": {
            "tags": []
          },
          "execution_count": 11
        }
      ]
    },
    {
      "cell_type": "code",
      "metadata": {
        "id": "_SyY8CXvOcry"
      },
      "source": [
        "list_col = ['communitycases', 'dormresidents', 'importedcases']\n",
        "for col in list_col:\n",
        "    final[col] = final[col].astype(int)"
      ],
      "execution_count": null,
      "outputs": []
    },
    {
      "cell_type": "code",
      "metadata": {
        "colab": {
          "base_uri": "https://localhost:8080/",
          "height": 297
        },
        "id": "dq1LI2tW86C7",
        "outputId": "6ef68b0f-777d-4c88-c580-7803c4249084"
      },
      "source": [
        "final2021= final[final['date']>pd.to_datetime('2021-1-1')]\n",
        "final2021.describe()"
      ],
      "execution_count": null,
      "outputs": [
        {
          "output_type": "execute_result",
          "data": {
            "text/html": [
              "<div>\n",
              "<style scoped>\n",
              "    .dataframe tbody tr th:only-of-type {\n",
              "        vertical-align: middle;\n",
              "    }\n",
              "\n",
              "    .dataframe tbody tr th {\n",
              "        vertical-align: top;\n",
              "    }\n",
              "\n",
              "    .dataframe thead th {\n",
              "        text-align: right;\n",
              "    }\n",
              "</style>\n",
              "<table border=\"1\" class=\"dataframe\">\n",
              "  <thead>\n",
              "    <tr style=\"text-align: right;\">\n",
              "      <th></th>\n",
              "      <th>communitycases</th>\n",
              "      <th>dormresidents</th>\n",
              "      <th>importedcases</th>\n",
              "    </tr>\n",
              "  </thead>\n",
              "  <tbody>\n",
              "    <tr>\n",
              "      <th>count</th>\n",
              "      <td>114.000000</td>\n",
              "      <td>114.000000</td>\n",
              "      <td>114.000000</td>\n",
              "    </tr>\n",
              "    <tr>\n",
              "      <th>mean</th>\n",
              "      <td>0.684211</td>\n",
              "      <td>0.087719</td>\n",
              "      <td>20.078947</td>\n",
              "    </tr>\n",
              "    <tr>\n",
              "      <th>std</th>\n",
              "      <td>1.115584</td>\n",
              "      <td>0.284135</td>\n",
              "      <td>10.577271</td>\n",
              "    </tr>\n",
              "    <tr>\n",
              "      <th>min</th>\n",
              "      <td>0.000000</td>\n",
              "      <td>0.000000</td>\n",
              "      <td>1.000000</td>\n",
              "    </tr>\n",
              "    <tr>\n",
              "      <th>25%</th>\n",
              "      <td>0.000000</td>\n",
              "      <td>0.000000</td>\n",
              "      <td>12.000000</td>\n",
              "    </tr>\n",
              "    <tr>\n",
              "      <th>50%</th>\n",
              "      <td>0.000000</td>\n",
              "      <td>0.000000</td>\n",
              "      <td>17.500000</td>\n",
              "    </tr>\n",
              "    <tr>\n",
              "      <th>75%</th>\n",
              "      <td>1.000000</td>\n",
              "      <td>0.000000</td>\n",
              "      <td>26.000000</td>\n",
              "    </tr>\n",
              "    <tr>\n",
              "      <th>max</th>\n",
              "      <td>5.000000</td>\n",
              "      <td>1.000000</td>\n",
              "      <td>55.000000</td>\n",
              "    </tr>\n",
              "  </tbody>\n",
              "</table>\n",
              "</div>"
            ],
            "text/plain": [
              "       communitycases  dormresidents  importedcases\n",
              "count      114.000000     114.000000     114.000000\n",
              "mean         0.684211       0.087719      20.078947\n",
              "std          1.115584       0.284135      10.577271\n",
              "min          0.000000       0.000000       1.000000\n",
              "25%          0.000000       0.000000      12.000000\n",
              "50%          0.000000       0.000000      17.500000\n",
              "75%          1.000000       0.000000      26.000000\n",
              "max          5.000000       1.000000      55.000000"
            ]
          },
          "metadata": {
            "tags": []
          },
          "execution_count": 13
        }
      ]
    },
    {
      "cell_type": "code",
      "metadata": {
        "colab": {
          "base_uri": "https://localhost:8080/",
          "height": 17
        },
        "id": "2YMRQEgqboyY",
        "outputId": "d7db4a61-8606-4085-d511-262a5e38f43d"
      },
      "source": [
        "final2021.to_csv('final2021.csv', index=False)\n",
        "files.download('final2021.csv')"
      ],
      "execution_count": null,
      "outputs": [
        {
          "output_type": "display_data",
          "data": {
            "application/javascript": [
              "\n",
              "    async function download(id, filename, size) {\n",
              "      if (!google.colab.kernel.accessAllowed) {\n",
              "        return;\n",
              "      }\n",
              "      const div = document.createElement('div');\n",
              "      const label = document.createElement('label');\n",
              "      label.textContent = `Downloading \"${filename}\": `;\n",
              "      div.appendChild(label);\n",
              "      const progress = document.createElement('progress');\n",
              "      progress.max = size;\n",
              "      div.appendChild(progress);\n",
              "      document.body.appendChild(div);\n",
              "\n",
              "      const buffers = [];\n",
              "      let downloaded = 0;\n",
              "\n",
              "      const channel = await google.colab.kernel.comms.open(id);\n",
              "      // Send a message to notify the kernel that we're ready.\n",
              "      channel.send({})\n",
              "\n",
              "      for await (const message of channel.messages) {\n",
              "        // Send a message to notify the kernel that we're ready.\n",
              "        channel.send({})\n",
              "        if (message.buffers) {\n",
              "          for (const buffer of message.buffers) {\n",
              "            buffers.push(buffer);\n",
              "            downloaded += buffer.byteLength;\n",
              "            progress.value = downloaded;\n",
              "          }\n",
              "        }\n",
              "      }\n",
              "      const blob = new Blob(buffers, {type: 'application/binary'});\n",
              "      const a = document.createElement('a');\n",
              "      a.href = window.URL.createObjectURL(blob);\n",
              "      a.download = filename;\n",
              "      div.appendChild(a);\n",
              "      a.click();\n",
              "      div.remove();\n",
              "    }\n",
              "  "
            ],
            "text/plain": [
              "<IPython.core.display.Javascript object>"
            ]
          },
          "metadata": {
            "tags": []
          }
        },
        {
          "output_type": "display_data",
          "data": {
            "application/javascript": [
              "download(\"download_b1c415a9-c604-43b8-b27a-dd8aff4eaf89\", \"final2021.csv\", 2085)"
            ],
            "text/plain": [
              "<IPython.core.display.Javascript object>"
            ]
          },
          "metadata": {
            "tags": []
          }
        }
      ]
    }
  ]
}