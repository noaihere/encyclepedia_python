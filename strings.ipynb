{
  "nbformat": 4,
  "nbformat_minor": 0,
  "metadata": {
    "colab": {
      "name": "strings.ipynb",
      "provenance": [],
      "authorship_tag": "ABX9TyMPZIsrT68TvtjwM9gVTr6o",
      "include_colab_link": true
    },
    "kernelspec": {
      "name": "python3",
      "display_name": "Python 3"
    },
    "language_info": {
      "name": "python"
    }
  },
  "cells": [
    {
      "cell_type": "markdown",
      "metadata": {
        "id": "view-in-github",
        "colab_type": "text"
      },
      "source": [
        "<a href=\"https://colab.research.google.com/github/noaihere/encyclepedia_python/blob/main/strings.ipynb\" target=\"_parent\"><img src=\"https://colab.research.google.com/assets/colab-badge.svg\" alt=\"Open In Colab\"/></a>"
      ]
    },
    {
      "cell_type": "code",
      "metadata": {
        "id": "Ogg8l0bdSVyK"
      },
      "source": [
        "import re\n",
        "import pandas as pd\n",
        "import numpy as np"
      ],
      "execution_count": 48,
      "outputs": []
    },
    {
      "cell_type": "code",
      "metadata": {
        "colab": {
          "base_uri": "https://localhost:8080/",
          "height": 173
        },
        "id": "A2Qm35hDQxwE",
        "outputId": "645d2ebe-c3b8-40a7-cb61-697a06c37189"
      },
      "source": [
        "df = pd.DataFrame({'date':['May 2020','Jan 2019','Feb 2015', 'Total']})\n",
        "df"
      ],
      "execution_count": 75,
      "outputs": [
        {
          "output_type": "execute_result",
          "data": {
            "text/html": [
              "<div>\n",
              "<style scoped>\n",
              "    .dataframe tbody tr th:only-of-type {\n",
              "        vertical-align: middle;\n",
              "    }\n",
              "\n",
              "    .dataframe tbody tr th {\n",
              "        vertical-align: top;\n",
              "    }\n",
              "\n",
              "    .dataframe thead th {\n",
              "        text-align: right;\n",
              "    }\n",
              "</style>\n",
              "<table border=\"1\" class=\"dataframe\">\n",
              "  <thead>\n",
              "    <tr style=\"text-align: right;\">\n",
              "      <th></th>\n",
              "      <th>date</th>\n",
              "    </tr>\n",
              "  </thead>\n",
              "  <tbody>\n",
              "    <tr>\n",
              "      <th>0</th>\n",
              "      <td>May 2020</td>\n",
              "    </tr>\n",
              "    <tr>\n",
              "      <th>1</th>\n",
              "      <td>Jan 2019</td>\n",
              "    </tr>\n",
              "    <tr>\n",
              "      <th>2</th>\n",
              "      <td>Feb 2015</td>\n",
              "    </tr>\n",
              "    <tr>\n",
              "      <th>3</th>\n",
              "      <td>Total</td>\n",
              "    </tr>\n",
              "  </tbody>\n",
              "</table>\n",
              "</div>"
            ],
            "text/plain": [
              "       date\n",
              "0  May 2020\n",
              "1  Jan 2019\n",
              "2  Feb 2015\n",
              "3     Total"
            ]
          },
          "metadata": {
            "tags": []
          },
          "execution_count": 75
        }
      ]
    },
    {
      "cell_type": "code",
      "metadata": {
        "colab": {
          "base_uri": "https://localhost:8080/",
          "height": 142
        },
        "id": "UQTQi_0rQupU",
        "outputId": "cd6a7bf1-e9eb-4a07-d80d-37c31d86d4cd"
      },
      "source": [
        "# str.split\n",
        "\n",
        "df[['month', 'year']] = df.date.str.split(\" \", expand=True,)\n",
        "df"
      ],
      "execution_count": 74,
      "outputs": [
        {
          "output_type": "execute_result",
          "data": {
            "text/html": [
              "<div>\n",
              "<style scoped>\n",
              "    .dataframe tbody tr th:only-of-type {\n",
              "        vertical-align: middle;\n",
              "    }\n",
              "\n",
              "    .dataframe tbody tr th {\n",
              "        vertical-align: top;\n",
              "    }\n",
              "\n",
              "    .dataframe thead th {\n",
              "        text-align: right;\n",
              "    }\n",
              "</style>\n",
              "<table border=\"1\" class=\"dataframe\">\n",
              "  <thead>\n",
              "    <tr style=\"text-align: right;\">\n",
              "      <th></th>\n",
              "      <th>date</th>\n",
              "      <th>month</th>\n",
              "      <th>year</th>\n",
              "    </tr>\n",
              "  </thead>\n",
              "  <tbody>\n",
              "    <tr>\n",
              "      <th>0</th>\n",
              "      <td>May 2020</td>\n",
              "      <td>May</td>\n",
              "      <td>2020</td>\n",
              "    </tr>\n",
              "    <tr>\n",
              "      <th>1</th>\n",
              "      <td>Jan 2019</td>\n",
              "      <td>Jan</td>\n",
              "      <td>2019</td>\n",
              "    </tr>\n",
              "    <tr>\n",
              "      <th>2</th>\n",
              "      <td>Feb 2015</td>\n",
              "      <td>Feb</td>\n",
              "      <td>2015</td>\n",
              "    </tr>\n",
              "  </tbody>\n",
              "</table>\n",
              "</div>"
            ],
            "text/plain": [
              "       date month  year\n",
              "0  May 2020   May  2020\n",
              "1  Jan 2019   Jan  2019\n",
              "2  Feb 2015   Feb  2015"
            ]
          },
          "metadata": {
            "tags": []
          },
          "execution_count": 74
        }
      ]
    },
    {
      "cell_type": "code",
      "metadata": {
        "colab": {
          "base_uri": "https://localhost:8080/",
          "height": 142
        },
        "id": "9PS-KJ4LRO9R",
        "outputId": "63a1918c-8da0-4278-98ca-a973ba1594de"
      },
      "source": [
        "# isin\n",
        "# ~ means not\n",
        "\n",
        "df[~df[\"date\"].isin([\"Total\", \"Grand totals\", \"Grand Total\"])]"
      ],
      "execution_count": 76,
      "outputs": [
        {
          "output_type": "execute_result",
          "data": {
            "text/html": [
              "<div>\n",
              "<style scoped>\n",
              "    .dataframe tbody tr th:only-of-type {\n",
              "        vertical-align: middle;\n",
              "    }\n",
              "\n",
              "    .dataframe tbody tr th {\n",
              "        vertical-align: top;\n",
              "    }\n",
              "\n",
              "    .dataframe thead th {\n",
              "        text-align: right;\n",
              "    }\n",
              "</style>\n",
              "<table border=\"1\" class=\"dataframe\">\n",
              "  <thead>\n",
              "    <tr style=\"text-align: right;\">\n",
              "      <th></th>\n",
              "      <th>date</th>\n",
              "    </tr>\n",
              "  </thead>\n",
              "  <tbody>\n",
              "    <tr>\n",
              "      <th>0</th>\n",
              "      <td>May 2020</td>\n",
              "    </tr>\n",
              "    <tr>\n",
              "      <th>1</th>\n",
              "      <td>Jan 2019</td>\n",
              "    </tr>\n",
              "    <tr>\n",
              "      <th>2</th>\n",
              "      <td>Feb 2015</td>\n",
              "    </tr>\n",
              "  </tbody>\n",
              "</table>\n",
              "</div>"
            ],
            "text/plain": [
              "       date\n",
              "0  May 2020\n",
              "1  Jan 2019\n",
              "2  Feb 2015"
            ]
          },
          "metadata": {
            "tags": []
          },
          "execution_count": 76
        }
      ]
    },
    {
      "cell_type": "code",
      "metadata": {
        "colab": {
          "base_uri": "https://localhost:8080/",
          "height": 142
        },
        "id": "QlFuUNTC-Lqg",
        "outputId": "5d28392d-17ed-412b-947e-ec122c87769f"
      },
      "source": [
        "df = pd.DataFrame({'name':['ten1 ho','may sixt','nan'], 'email':['tenho@gmail.com', 'may-sixt@gmail.com', 'jlin.z@gmail.com'],\n",
        "                   'product': ['a10 (cm)', 'b10 (m)', 'c10 (kg)']})\n",
        "df"
      ],
      "execution_count": 59,
      "outputs": [
        {
          "output_type": "execute_result",
          "data": {
            "text/html": [
              "<div>\n",
              "<style scoped>\n",
              "    .dataframe tbody tr th:only-of-type {\n",
              "        vertical-align: middle;\n",
              "    }\n",
              "\n",
              "    .dataframe tbody tr th {\n",
              "        vertical-align: top;\n",
              "    }\n",
              "\n",
              "    .dataframe thead th {\n",
              "        text-align: right;\n",
              "    }\n",
              "</style>\n",
              "<table border=\"1\" class=\"dataframe\">\n",
              "  <thead>\n",
              "    <tr style=\"text-align: right;\">\n",
              "      <th></th>\n",
              "      <th>name</th>\n",
              "      <th>email</th>\n",
              "      <th>product</th>\n",
              "    </tr>\n",
              "  </thead>\n",
              "  <tbody>\n",
              "    <tr>\n",
              "      <th>0</th>\n",
              "      <td>ten1 ho</td>\n",
              "      <td>tenho@gmail.com</td>\n",
              "      <td>a10 (cm)</td>\n",
              "    </tr>\n",
              "    <tr>\n",
              "      <th>1</th>\n",
              "      <td>may sixt</td>\n",
              "      <td>may-sixt@gmail.com</td>\n",
              "      <td>b10 (m)</td>\n",
              "    </tr>\n",
              "    <tr>\n",
              "      <th>2</th>\n",
              "      <td>nan</td>\n",
              "      <td>jlin.z@gmail.com</td>\n",
              "      <td>c10 (kg)</td>\n",
              "    </tr>\n",
              "  </tbody>\n",
              "</table>\n",
              "</div>"
            ],
            "text/plain": [
              "       name               email   product\n",
              "0   ten1 ho     tenho@gmail.com  a10 (cm)\n",
              "1  may sixt  may-sixt@gmail.com   b10 (m)\n",
              "2       nan    jlin.z@gmail.com  c10 (kg)"
            ]
          },
          "metadata": {
            "tags": []
          },
          "execution_count": 59
        }
      ]
    },
    {
      "cell_type": "code",
      "metadata": {
        "colab": {
          "base_uri": "https://localhost:8080/"
        },
        "id": "Otb2Fm3H-oJO",
        "outputId": "3ceb9f4d-8334-47e7-91ff-46b8cac2e7bd"
      },
      "source": [
        "# str.match like re.match\n",
        "\n",
        "df['name'].str.match('\\w+[1]')"
      ],
      "execution_count": 12,
      "outputs": [
        {
          "output_type": "execute_result",
          "data": {
            "text/plain": [
              "0     True\n",
              "1    False\n",
              "2    False\n",
              "Name: name, dtype: bool"
            ]
          },
          "metadata": {
            "tags": []
          },
          "execution_count": 12
        }
      ]
    },
    {
      "cell_type": "code",
      "metadata": {
        "colab": {
          "base_uri": "https://localhost:8080/",
          "height": 278
        },
        "id": "rort-u2y_crx",
        "outputId": "c803c02b-8d0f-4b84-f9a7-b86d4e6488b2"
      },
      "source": [
        "# str.extract like re.search with groups\n",
        "\n",
        "print(df['email'].str.extract('([A-Za-z-.]+)@'))\n",
        "print(df['email'].str.extract('@([A-Za-z-.]+)'))\n",
        "df[['first email', 'provider']] = df['email'].str.extract('([A-Za-z-.]+)@([A-Za-z-.]+)')\n",
        "\n",
        "# ^ means not\n",
        "df[[\"product_name\", \"unit\"]] = df[\"product\"].str.extract(\n",
        "            r\"([^(]+)(\\([^\\)]+\\))?$\")\n",
        "\n",
        "# str strip method\n",
        "df[\"unit\"] = df[\"unit\"].str.strip(\"()\")\n",
        "df"
      ],
      "execution_count": 42,
      "outputs": [
        {
          "output_type": "stream",
          "text": [
            "          0\n",
            "0     tenho\n",
            "1  may-sixt\n",
            "2    jlin.z\n",
            "           0\n",
            "0  gmail.com\n",
            "1  gmail.com\n",
            "2  gmail.com\n"
          ],
          "name": "stdout"
        },
        {
          "output_type": "execute_result",
          "data": {
            "text/html": [
              "<div>\n",
              "<style scoped>\n",
              "    .dataframe tbody tr th:only-of-type {\n",
              "        vertical-align: middle;\n",
              "    }\n",
              "\n",
              "    .dataframe tbody tr th {\n",
              "        vertical-align: top;\n",
              "    }\n",
              "\n",
              "    .dataframe thead th {\n",
              "        text-align: right;\n",
              "    }\n",
              "</style>\n",
              "<table border=\"1\" class=\"dataframe\">\n",
              "  <thead>\n",
              "    <tr style=\"text-align: right;\">\n",
              "      <th></th>\n",
              "      <th>name</th>\n",
              "      <th>email</th>\n",
              "      <th>product</th>\n",
              "      <th>first email</th>\n",
              "      <th>provider</th>\n",
              "      <th>product_name</th>\n",
              "      <th>unit</th>\n",
              "    </tr>\n",
              "  </thead>\n",
              "  <tbody>\n",
              "    <tr>\n",
              "      <th>0</th>\n",
              "      <td>ten1 ho</td>\n",
              "      <td>tenho@gmail.com</td>\n",
              "      <td>a10 (cm)</td>\n",
              "      <td>tenho</td>\n",
              "      <td>gmail.com</td>\n",
              "      <td>a10</td>\n",
              "      <td>cm</td>\n",
              "    </tr>\n",
              "    <tr>\n",
              "      <th>1</th>\n",
              "      <td>may sixt</td>\n",
              "      <td>may-sixt@gmail.com</td>\n",
              "      <td>b10 (m)</td>\n",
              "      <td>may-sixt</td>\n",
              "      <td>gmail.com</td>\n",
              "      <td>b10</td>\n",
              "      <td>m</td>\n",
              "    </tr>\n",
              "    <tr>\n",
              "      <th>2</th>\n",
              "      <td>jess lingard</td>\n",
              "      <td>jlin.z@gmail.com</td>\n",
              "      <td>c10 (kg)</td>\n",
              "      <td>jlin.z</td>\n",
              "      <td>gmail.com</td>\n",
              "      <td>c10</td>\n",
              "      <td>kg</td>\n",
              "    </tr>\n",
              "  </tbody>\n",
              "</table>\n",
              "</div>"
            ],
            "text/plain": [
              "           name               email   product  ...   provider product_name unit\n",
              "0       ten1 ho     tenho@gmail.com  a10 (cm)  ...  gmail.com         a10    cm\n",
              "1      may sixt  may-sixt@gmail.com   b10 (m)  ...  gmail.com         b10     m\n",
              "2  jess lingard    jlin.z@gmail.com  c10 (kg)  ...  gmail.com         c10    kg\n",
              "\n",
              "[3 rows x 7 columns]"
            ]
          },
          "metadata": {
            "tags": []
          },
          "execution_count": 42
        }
      ]
    },
    {
      "cell_type": "code",
      "metadata": {
        "colab": {
          "base_uri": "https://localhost:8080/"
        },
        "id": "cl8pf2d7EykL",
        "outputId": "809fb2cc-e585-4abd-8cb3-ca89ac7e1109"
      },
      "source": [
        "# str.replace like sub\n",
        "\n",
        "df[\"product\"].str.replace(r\"\\(\\w+\\)\", \"(t)\")"
      ],
      "execution_count": 43,
      "outputs": [
        {
          "output_type": "execute_result",
          "data": {
            "text/plain": [
              "0    a10 (t)\n",
              "1    b10 (t)\n",
              "2    c10 (t)\n",
              "Name: product, dtype: object"
            ]
          },
          "metadata": {
            "tags": []
          },
          "execution_count": 43
        }
      ]
    },
    {
      "cell_type": "code",
      "metadata": {
        "colab": {
          "base_uri": "https://localhost:8080/",
          "height": 142
        },
        "id": "RDWKQmRjGzgd",
        "outputId": "627f489c-a3ee-405e-b417-c07183a3f883"
      },
      "source": [
        "# can also use .replace, specify regex=True\n",
        "df[\"name\"].replace(r\"^(nan|\\s*)$\", np.nan, regex=True, inplace =True)\n",
        "\n",
        "# or use dictionary\n",
        "df[\"name\"].replace({\"sixt\": \"six\",\n",
        "                    \"\\w+\\d{1}\": \"ten\"}, regex=True, inplace =True)\n",
        "df"
      ],
      "execution_count": 60,
      "outputs": [
        {
          "output_type": "execute_result",
          "data": {
            "text/html": [
              "<div>\n",
              "<style scoped>\n",
              "    .dataframe tbody tr th:only-of-type {\n",
              "        vertical-align: middle;\n",
              "    }\n",
              "\n",
              "    .dataframe tbody tr th {\n",
              "        vertical-align: top;\n",
              "    }\n",
              "\n",
              "    .dataframe thead th {\n",
              "        text-align: right;\n",
              "    }\n",
              "</style>\n",
              "<table border=\"1\" class=\"dataframe\">\n",
              "  <thead>\n",
              "    <tr style=\"text-align: right;\">\n",
              "      <th></th>\n",
              "      <th>name</th>\n",
              "      <th>email</th>\n",
              "      <th>product</th>\n",
              "    </tr>\n",
              "  </thead>\n",
              "  <tbody>\n",
              "    <tr>\n",
              "      <th>0</th>\n",
              "      <td>ten ho</td>\n",
              "      <td>tenho@gmail.com</td>\n",
              "      <td>a10 (cm)</td>\n",
              "    </tr>\n",
              "    <tr>\n",
              "      <th>1</th>\n",
              "      <td>may six</td>\n",
              "      <td>may-sixt@gmail.com</td>\n",
              "      <td>b10 (m)</td>\n",
              "    </tr>\n",
              "    <tr>\n",
              "      <th>2</th>\n",
              "      <td>NaN</td>\n",
              "      <td>jlin.z@gmail.com</td>\n",
              "      <td>c10 (kg)</td>\n",
              "    </tr>\n",
              "  </tbody>\n",
              "</table>\n",
              "</div>"
            ],
            "text/plain": [
              "      name               email   product\n",
              "0   ten ho     tenho@gmail.com  a10 (cm)\n",
              "1  may six  may-sixt@gmail.com   b10 (m)\n",
              "2      NaN    jlin.z@gmail.com  c10 (kg)"
            ]
          },
          "metadata": {
            "tags": []
          },
          "execution_count": 60
        }
      ]
    },
    {
      "cell_type": "code",
      "metadata": {
        "colab": {
          "base_uri": "https://localhost:8080/"
        },
        "id": "xXi4W4MPKSAe",
        "outputId": "a60b6881-42e0-4a5c-9d1c-00ddcd65057f"
      },
      "source": [
        "# str.contains like re.search\n",
        "\n",
        "df = pd.DataFrame({'Country':['Japan tet','America tet','et Asia'], 'Month':['Jul','Dec','Feb']\n",
        "                   })\n",
        "print(df['Country'].str.contains('Japan|Asia'))\n",
        "america_index = df.index[df.iloc[:,0].str.contains(\"America\")].tolist()[0]\n",
        "print(america_index)"
      ],
      "execution_count": 70,
      "outputs": [
        {
          "output_type": "stream",
          "text": [
            "0     True\n",
            "1    False\n",
            "2     True\n",
            "Name: Country, dtype: bool\n",
            "1\n"
          ],
          "name": "stdout"
        }
      ]
    },
    {
      "cell_type": "code",
      "metadata": {
        "colab": {
          "base_uri": "https://localhost:8080/",
          "height": 142
        },
        "id": "J0zsDKbVUWCV",
        "outputId": "670a3e43-3f00-4867-ca86-b1dbdb5552a1"
      },
      "source": [
        "# use apply to run function to change formatting and re.search with groups\n",
        "# to extract quarter,year\n",
        "\n",
        "df = pd.DataFrame({'date':['Q1 2020','Q2 2019','Q3 2015']})\n",
        "df\n",
        "\n",
        "quarter_re = re.compile(r\"^Q([1234]) (\\d{4})$\")\n",
        "\n",
        "def quarter_to_date(quarter):\n",
        "    \"\"\" convert a string like 'Q3 2017' to a date \"\"\"\n",
        "    quarter, year = quarter_re.search(quarter).groups()\n",
        "    return \"{}-{:02d}-01\".format(year, (int(quarter) * 3 - 2))\n",
        "\n",
        "df.date = df.date.apply(quarter_to_date)\n",
        "df.date = pd.to_datetime(df.date).dt.date\n",
        "df"
      ],
      "execution_count": 79,
      "outputs": [
        {
          "output_type": "execute_result",
          "data": {
            "text/html": [
              "<div>\n",
              "<style scoped>\n",
              "    .dataframe tbody tr th:only-of-type {\n",
              "        vertical-align: middle;\n",
              "    }\n",
              "\n",
              "    .dataframe tbody tr th {\n",
              "        vertical-align: top;\n",
              "    }\n",
              "\n",
              "    .dataframe thead th {\n",
              "        text-align: right;\n",
              "    }\n",
              "</style>\n",
              "<table border=\"1\" class=\"dataframe\">\n",
              "  <thead>\n",
              "    <tr style=\"text-align: right;\">\n",
              "      <th></th>\n",
              "      <th>date</th>\n",
              "    </tr>\n",
              "  </thead>\n",
              "  <tbody>\n",
              "    <tr>\n",
              "      <th>0</th>\n",
              "      <td>2020-01-01</td>\n",
              "    </tr>\n",
              "    <tr>\n",
              "      <th>1</th>\n",
              "      <td>2019-04-01</td>\n",
              "    </tr>\n",
              "    <tr>\n",
              "      <th>2</th>\n",
              "      <td>2015-07-01</td>\n",
              "    </tr>\n",
              "  </tbody>\n",
              "</table>\n",
              "</div>"
            ],
            "text/plain": [
              "         date\n",
              "0  2020-01-01\n",
              "1  2019-04-01\n",
              "2  2015-07-01"
            ]
          },
          "metadata": {
            "tags": []
          },
          "execution_count": 79
        }
      ]
    }
  ]
}