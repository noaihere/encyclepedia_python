{
  "nbformat": 4,
  "nbformat_minor": 0,
  "metadata": {
    "colab": {
      "name": "classmethods.ipynb",
      "provenance": [],
      "collapsed_sections": [],
      "authorship_tag": "ABX9TyPhLA8bkh5j0AXdG/ERajJa",
      "include_colab_link": true
    },
    "kernelspec": {
      "name": "python3",
      "display_name": "Python 3"
    }
  },
  "cells": [
    {
      "cell_type": "markdown",
      "metadata": {
        "id": "view-in-github",
        "colab_type": "text"
      },
      "source": [
        "<a href=\"https://colab.research.google.com/github/noaihere/encyclepedia_python/blob/main/classmethods.ipynb\" target=\"_parent\"><img src=\"https://colab.research.google.com/assets/colab-badge.svg\" alt=\"Open In Colab\"/></a>"
      ]
    },
    {
      "cell_type": "markdown",
      "metadata": {
        "id": "YvUg8bTm4sWV"
      },
      "source": [
        "Following example from https://stackabuse.com/pythons-classmethod-and-staticmethod-explained/"
      ]
    },
    {
      "cell_type": "code",
      "metadata": {
        "id": "0tOxhcQXHvJy"
      },
      "source": [
        "class Student(object):\n",
        "\n",
        "    def __init__(self, first_name, last_name):\n",
        "        self.first_name = first_name\n",
        "        self.last_name = last_name\n",
        "\n",
        "    @classmethod\n",
        "    def from_string(cls, name_str):\n",
        "        first_name, last_name = map(str, name_str.split(' '))\n",
        "        student = cls(first_name, last_name)\n",
        "        return student"
      ],
      "execution_count": 1,
      "outputs": []
    },
    {
      "cell_type": "code",
      "metadata": {
        "colab": {
          "base_uri": "https://localhost:8080/",
          "height": 35
        },
        "id": "SrWHmCtRH9MC",
        "outputId": "7fad78fc-d7cb-4a9c-a6d8-3e9e34a96455"
      },
      "source": [
        "scott = Student.from_string('Scott Robinson')\n",
        "\n",
        "scott.first_name"
      ],
      "execution_count": 2,
      "outputs": [
        {
          "output_type": "execute_result",
          "data": {
            "application/vnd.google.colaboratory.intrinsic+json": {
              "type": "string"
            },
            "text/plain": [
              "'Scott'"
            ]
          },
          "metadata": {
            "tags": []
          },
          "execution_count": 2
        }
      ]
    },
    {
      "cell_type": "markdown",
      "metadata": {
        "id": "U5GIKdb34mv9"
      },
      "source": [
        "Following example from https://djangocentral.com/classmethod-and-staticmethod-explained/"
      ]
    },
    {
      "cell_type": "code",
      "metadata": {
        "colab": {
          "base_uri": "https://localhost:8080/"
        },
        "id": "Nyn6igZvPlYr",
        "outputId": "da8c7716-96c8-4f5a-97ce-72828249b80c"
      },
      "source": [
        "class MyClass():\n",
        "    \n",
        "    TOTAL_OBJECTS=0\n",
        "    \n",
        "    def __init__(self):\n",
        "        MyClass.TOTAL_OBJECTS = MyClass.TOTAL_OBJECTS+1\n",
        "       \n",
        "    @classmethod\n",
        "    def total_objects(cls):\n",
        "        print(\"Total objects: \",cls.TOTAL_OBJECTS)\n",
        "\n",
        "# Creating objects of parent class       \n",
        "my_obj1 = MyClass()\n",
        "my_obj2 = MyClass()\n",
        "\n",
        "MyClass.total_objects()\n",
        "\n",
        "# Creating a child class\n",
        "class ChildClass(MyClass):\n",
        "    TOTAL_OBJECTS=3\n",
        "    pass\n",
        "\n",
        "my_classobj1 = ChildClass()\n",
        "my_classobj2 = ChildClass()\n",
        "ChildClass.total_objects()"
      ],
      "execution_count": 3,
      "outputs": [
        {
          "output_type": "stream",
          "text": [
            "Total objects:  2\n",
            "Total objects:  3\n"
          ],
          "name": "stdout"
        }
      ]
    },
    {
      "cell_type": "code",
      "metadata": {
        "colab": {
          "base_uri": "https://localhost:8080/",
          "height": 53
        },
        "id": "_p3UHTenU2C2",
        "outputId": "1d45d3c5-4a1e-4c21-ffaa-d3ae30fcb9ad"
      },
      "source": [
        "class Student(object):\n",
        "\n",
        "    def __init__(self, first_name, last_name):\n",
        "        self.first_name = first_name\n",
        "        self.last_name = last_name\n",
        "\n",
        "    @classmethod\n",
        "    def from_string(cls, name_str):\n",
        "        first_name, last_name = map(str, name_str.split(' '))\n",
        "        student = cls(first_name, last_name)\n",
        "        return student\n",
        "\n",
        "class Person(Student):\n",
        "    def add_name(self):\n",
        "        return self.first_name+' test'\n",
        "\n",
        "tim = Person.from_string('Tim Robinson')\n",
        "\n",
        "print(tim.first_name)\n",
        "tim.add_name()"
      ],
      "execution_count": 4,
      "outputs": [
        {
          "output_type": "stream",
          "text": [
            "Tim\n"
          ],
          "name": "stdout"
        },
        {
          "output_type": "execute_result",
          "data": {
            "application/vnd.google.colaboratory.intrinsic+json": {
              "type": "string"
            },
            "text/plain": [
              "'Tim test'"
            ]
          },
          "metadata": {
            "tags": []
          },
          "execution_count": 4
        }
      ]
    },
    {
      "cell_type": "markdown",
      "metadata": {
        "id": "Y785-pkB4eFV"
      },
      "source": [
        "Following example taken from https://www.informit.com/articles/article.aspx?p=2992597&seqNum=3"
      ]
    },
    {
      "cell_type": "code",
      "metadata": {
        "id": "jOE92LdjeEOP"
      },
      "source": [
        "import os"
      ],
      "execution_count": 5,
      "outputs": []
    },
    {
      "cell_type": "code",
      "metadata": {
        "id": "wvlY0MPMQUju"
      },
      "source": [
        "# class for input data\n",
        "\n",
        "class GenericInputData:\n",
        "\n",
        "    @classmethod\n",
        "    def generate_inputs(cls, config):\n",
        "        raise NotImplementedError"
      ],
      "execution_count": 6,
      "outputs": []
    },
    {
      "cell_type": "code",
      "metadata": {
        "id": "jC1xR3JyWWXu"
      },
      "source": [
        "# subclass of GenericInputData\n",
        "\n",
        "class PathInputData(GenericInputData):\n",
        "\n",
        "    def __init__(self, path):\n",
        "        super().__init__()\n",
        "        self.path = path\n",
        "\n",
        "    def read(self):\n",
        "         with open(self.path) as f:\n",
        "             return f.read()\n",
        "        \n",
        "    @classmethod\n",
        "    def generate_inputs(cls, config):\n",
        "         data_dir = config['data_dir']\n",
        "         for name in os.listdir(data_dir):\n",
        "              if name.endswith('txt'):\n",
        "                   yield cls(os.path.join(data_dir, name))"
      ],
      "execution_count": 7,
      "outputs": []
    },
    {
      "cell_type": "code",
      "metadata": {
        "id": "Xsr7BkcwWfr1"
      },
      "source": [
        "# class to create workers\n",
        "\n",
        "class GenericWorker:\n",
        "    def __init__(self, input_data):\n",
        "        self.input_data = input_data\n",
        "        self.result = None\n",
        "\n",
        "    def map(self):\n",
        "        raise NotImplementedError\n",
        "\n",
        "    @classmethod\n",
        "    def create_workers(cls, input_class, config):\n",
        "        workers = []\n",
        "        for input_data in input_class.generate_inputs(config):\n",
        "            workers.append(cls(input_data))\n",
        "        return workers"
      ],
      "execution_count": 8,
      "outputs": []
    },
    {
      "cell_type": "code",
      "metadata": {
        "id": "-7R508O7Wjc8"
      },
      "source": [
        "# subclass of GenericWorker\n",
        "# read is method of PathInputData class\n",
        "\n",
        "class LineCountWorker(GenericWorker):\n",
        "    def map(self):\n",
        "        data = self.input_data.read()\n",
        "        self.result = data.count('\\n')"
      ],
      "execution_count": 9,
      "outputs": []
    },
    {
      "cell_type": "code",
      "metadata": {
        "id": "rbm-MAjcdGSY"
      },
      "source": [
        "# execute function\n",
        "\n",
        "def execute(workers):\n",
        "    result_list=[]  \n",
        "    for w in workers:\n",
        "        w.map()\n",
        "        result_list.append(w.result)\n",
        "    print(result_list)    \n"
      ],
      "execution_count": 10,
      "outputs": []
    },
    {
      "cell_type": "code",
      "metadata": {
        "id": "heh5JjZ7W-J0"
      },
      "source": [
        "# create 2 txt files as input data\n",
        "\n",
        "with open('/content/Example1.txt', 'w') as writefile:\n",
        "    writefile.write(\"This is line A\\n\")\n",
        "\n",
        "with open('/content/Example2.txt', 'w') as writefile:\n",
        "    writefile.write(\"This is line A\\n\")\n",
        "    writefile.write(\"This is line B\\n\")\n",
        "    writefile.write(\"This is line B\\n\")\n",
        "    writefile.write(\"This is line B\\n\")            "
      ],
      "execution_count": 11,
      "outputs": []
    },
    {
      "cell_type": "code",
      "metadata": {
        "colab": {
          "base_uri": "https://localhost:8080/"
        },
        "id": "6ZKmtuVhgBDk",
        "outputId": "bad66c47-51e3-4ecb-b173-3629a258b4c5"
      },
      "source": [
        "# get files directory\n",
        "\n",
        "!pwd\n",
        "os.listdir('/content')[1].endswith('txt')"
      ],
      "execution_count": 12,
      "outputs": [
        {
          "output_type": "stream",
          "text": [
            "/content\n"
          ],
          "name": "stdout"
        },
        {
          "output_type": "execute_result",
          "data": {
            "text/plain": [
              "False"
            ]
          },
          "metadata": {
            "tags": []
          },
          "execution_count": 12
        }
      ]
    },
    {
      "cell_type": "code",
      "metadata": {
        "id": "gtUiLIn1dimH"
      },
      "source": [
        "# mapreduce function\n",
        "\n",
        "def mapreduce(worker_class, input_class, config):\n",
        "     workers = worker_class.create_workers(input_class, config)\n",
        "     return execute(workers)"
      ],
      "execution_count": 13,
      "outputs": []
    },
    {
      "cell_type": "code",
      "metadata": {
        "colab": {
          "base_uri": "https://localhost:8080/"
        },
        "id": "Molv2QIWdi6e",
        "outputId": "0ee06de6-d09d-4bea-d4da-7628338d9fc8"
      },
      "source": [
        " # get final result\n",
        " \n",
        " config = {'data_dir':'/content'}\n",
        " mapreduce(LineCountWorker, PathInputData, config)"
      ],
      "execution_count": 14,
      "outputs": [
        {
          "output_type": "stream",
          "text": [
            "[4, 1]\n"
          ],
          "name": "stdout"
        }
      ]
    },
    {
      "cell_type": "code",
      "metadata": {
        "id": "wWs66_re5LZ7"
      },
      "source": [
        "# create json input file\n",
        "\n",
        "import json\n",
        "\n",
        "data = {\n",
        "    \"text\": \n",
        "        'This is line A\\n This is line A\\n'\n",
        "    }\n",
        "\n",
        "with open(\"/content/Example1.json\", \"w\") as write_file:\n",
        "    json.dump(data, write_file)"
      ],
      "execution_count": 15,
      "outputs": []
    },
    {
      "cell_type": "code",
      "metadata": {
        "id": "2AzwUSu5d5gH"
      },
      "source": [
        "# create different subclass of GenericInputData\n",
        "\n",
        "class JsonInputData(GenericInputData):\n",
        "\n",
        "    def __init__(self, path):\n",
        "        super().__init__()\n",
        "        self.path = path\n",
        "\n",
        "    def read(self):\n",
        "         with open(self.path) as f:\n",
        "             return f.read()\n",
        "        \n",
        "    @classmethod\n",
        "    def generate_inputs(cls, config):\n",
        "         data_dir = config['data_dir']\n",
        "         for name in os.listdir(data_dir):\n",
        "              if name.endswith('json'):\n",
        "                   yield cls(os.path.join(data_dir, name))"
      ],
      "execution_count": 16,
      "outputs": []
    },
    {
      "cell_type": "code",
      "metadata": {
        "id": "63WYGD_J6Sk0"
      },
      "source": [
        "# create different subclass of GenericWorker\n",
        "\n",
        "class JsonCountWorker(GenericWorker):\n",
        "    def map(self):\n",
        "        data = self.input_data.read()\n",
        "        self.result = json.loads(data)['text'].count('\\n')"
      ],
      "execution_count": 17,
      "outputs": []
    },
    {
      "cell_type": "code",
      "metadata": {
        "colab": {
          "base_uri": "https://localhost:8080/"
        },
        "id": "W4iody676bb2",
        "outputId": "c1f67bef-eff1-47a9-95ae-1d3c0da9c28a"
      },
      "source": [
        " # get final result using same function but different subclasses\n",
        " \n",
        " config = {'data_dir':'/content'}\n",
        " mapreduce(JsonCountWorker, JsonInputData, config)"
      ],
      "execution_count": 18,
      "outputs": [
        {
          "output_type": "stream",
          "text": [
            "[2]\n"
          ],
          "name": "stdout"
        }
      ]
    }
  ]
}